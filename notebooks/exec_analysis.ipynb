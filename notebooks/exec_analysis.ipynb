{
 "cells": [
  {
   "cell_type": "code",
   "execution_count": 2,
   "id": "bf92c750",
   "metadata": {},
   "outputs": [],
   "source": [
    "%reload_ext autoreload\n",
    "%autoreload 2"
   ]
  },
  {
   "cell_type": "code",
   "execution_count": 4,
   "id": "a23bf169",
   "metadata": {},
   "outputs": [],
   "source": [
    "import os\n",
    "from pathlib import Path\n",
    "\n",
    "import numpy as np\n",
    "import matplotlib.pyplot as plt\n",
    "import pandas as pd\n",
    "from stable_baselines3 import PPO\n",
    "\n",
    "from src.envs.exec_env import ExecutionEnv\n",
    "from src.baselines.twap_vwap import twap_schedule\n",
    "from src.baselines.almgren_chriss import almgren_chriss_linear\n",
    "from src.eval.metrics import implementation_shortfall"
   ]
  },
  {
   "cell_type": "code",
   "execution_count": null,
   "id": "25e172b8",
   "metadata": {},
   "outputs": [
    {
     "ename": "TypeError",
     "evalue": "ExecutionEnv.__init__() missing 1 required positional argument: 'config'",
     "output_type": "error",
     "traceback": [
      "\u001b[31m---------------------------------------------------------------------------\u001b[39m",
      "\u001b[31mTypeError\u001b[39m                                 Traceback (most recent call last)",
      "\u001b[36mCell\u001b[39m\u001b[36m \u001b[39m\u001b[32mIn[5]\u001b[39m\u001b[32m, line 3\u001b[39m\n\u001b[32m      1\u001b[39m MODELS_DIR = Path(os.getenv(\u001b[33m'\u001b[39m\u001b[33mMODELS_DIR\u001b[39m\u001b[33m'\u001b[39m, \u001b[33m'\u001b[39m\u001b[33m./models\u001b[39m\u001b[33m'\u001b[39m))\n\u001b[32m      2\u001b[39m model = PPO.load(MODELS_DIR / \u001b[33m'\u001b[39m\u001b[33mexec_ppo_final.zip\u001b[39m\u001b[33m'\u001b[39m)\n\u001b[32m----> \u001b[39m\u001b[32m3\u001b[39m env = \u001b[43mExecutionEnv\u001b[49m\u001b[43m(\u001b[49m\u001b[43m)\u001b[49m\n",
      "\u001b[31mTypeError\u001b[39m: ExecutionEnv.__init__() missing 1 required positional argument: 'config'"
     ]
    }
   ],
   "source": [
    "MODELS_DIR = Path(os.getenv('MODELS_DIR', './models'))\n",
    "CONFIGS_DIR = PATH(os.getenv('CONFIGS_DIR', './experiments'))\n",
    "\n",
    "model = PPO.load(MODELS_DIR / 'exec_ppo_final.zip')\n",
    "env = ExecutionEnv()"
   ]
  },
  {
   "cell_type": "code",
   "execution_count": null,
   "id": "0aace30b",
   "metadata": {},
   "outputs": [],
   "source": []
  }
 ],
 "metadata": {
  "kernelspec": {
   "display_name": "Python 3 (ipykernel)",
   "language": "python",
   "name": "python3"
  },
  "language_info": {
   "codemirror_mode": {
    "name": "ipython",
    "version": 3
   },
   "file_extension": ".py",
   "mimetype": "text/x-python",
   "name": "python",
   "nbconvert_exporter": "python",
   "pygments_lexer": "ipython3",
   "version": "3.11.0"
  }
 },
 "nbformat": 4,
 "nbformat_minor": 5
}
